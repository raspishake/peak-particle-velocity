{
 "cells": [
  {
   "cell_type": "code",
   "execution_count": 193,
   "metadata": {},
   "outputs": [
    {
     "name": "stdout",
     "output_type": "stream",
     "text": [
      "404 HTTP Error: Not Found for url: https://fdsnws.raspberryshakedata.com/fdsnws/station/1/query?network=AM&station=R55F&level=resp&format=xml&nodata=404&starttime=2020-10-19T07:35:33.000000Z\n"
     ]
    }
   ],
   "source": [
    "from obspy.clients.fdsn import Client\n",
    "from obspy import UTCDateTime, read_inventory\n",
    "import matplotlib.pyplot as plt\n",
    "import numpy as np\n",
    "\n",
    "### start user defined section ###\n",
    "\n",
    "station = \"R55F8\" # code of the station\n",
    "\n",
    "start_time = \"2020-10-19T07:35:33.000\" # start time for the plot\n",
    "end_time = \"2020-10-19T07:40:33.000\" # end time for the plot\n",
    "\n",
    "f1 = 0.7 # high-pass filter corner\n",
    "f2 = 2.0 # low-pass filter corner \n",
    "cor = 4 # number of corners\n",
    "\n",
    "### end user defined section ###\n",
    "\n",
    "start_time = UTCDateTime(start_time)\n",
    "end_time = UTCDateTime(end_time)\n",
    "\n",
    "client = Client('http://fdsnws.raspberryshakedata.com') \n",
    "network = \"AM\"\n",
    "loc = \"00\"\n",
    "channels = [\"EHZ\", \"EHN\", \"EHE\"]\n",
    "freq = int(100) # RS unit samples per second rate\n",
    "\n",
    "try:\n",
    "\n",
    "    # get inventory of the station to verify that a RS3D unit is being accessed    \n",
    "    inv = read_inventory('https://fdsnws.raspberryshakedata.com/fdsnws/station/1/query?network=AM&station=%s&level=resp&format=xml&nodata=404&starttime=%s' % (station, str(start_time)))\n",
    "    net = inv[0]\n",
    "    sta = net[0]\n",
    "   \n",
    "    # generate figure    \n",
    "    fig, axes = plt.subplots(figsize=(20, 10), nrows=3, ncols=1)\n",
    "    fig.tight_layout(pad=3.0)\n",
    "    \n",
    "    # plot peak particle velocity charts for each channel of the RS3D unit    \n",
    "    if len(list(sta)) == 3:\n",
    "        for i, val in enumerate(channels):\n",
    "            \n",
    "            # download and process waveforms for each channel            \n",
    "            st = client.get_waveforms(network, station, loc, val, starttime=start_time, endtime=end_time, attach_response=True)\n",
    "            st.merge(method=0, fill_value='latest')\n",
    "            st.detrend(type=\"demean\")\n",
    "            st.remove_response()\n",
    "            st.filter(\"bandpass\", freqmin=f1, freqmax=f2, corners=cor)\n",
    "            \n",
    "            # beautify the plots            \n",
    "            axes[i].plot(st[0].times(reftime=start_time), 2*np.pi*freq*st[0].data*1000, lw=1)\n",
    "            axes[i].margins(x=0.0001)\n",
    "            axes[i].grid(color='dimgray', ls = '-.', lw = 0.33)\n",
    "            axes[i].set_ylabel(\"Peak Particle Velocity (mm/s)\")\n",
    "            axes[i].set_xlabel(\"Time after Start (s)\")\n",
    "            staleg = str(station + \" - \" + val + \" - \" + \"Filter: bandpass \" + str(f1) + \" - \" + str(f2) + \" Hz\") \n",
    "            axes[i].legend([staleg])\n",
    "            \n",
    "        # save the final figure\n",
    "        plt.savefig(\"PPVMotion_\" + station + \".png\")\n",
    "    else:\n",
    "        \n",
    "        # if unit is not a RS3D, warn the user\n",
    "        print(\"Please insert a RS3D Station.\")\n",
    "        \n",
    "# print error messages instead of entire tracebacks\n",
    "except Exception as e:\n",
    "    \n",
    "    if hasattr(e, 'message'):\n",
    "        print(e.message)\n",
    "    else:\n",
    "        print(e)"
   ]
  },
  {
   "cell_type": "code",
   "execution_count": null,
   "metadata": {},
   "outputs": [],
   "source": []
  }
 ],
 "metadata": {
  "kernelspec": {
   "display_name": "Python 3",
   "language": "python",
   "name": "python3"
  },
  "language_info": {
   "codemirror_mode": {
    "name": "ipython",
    "version": 3
   },
   "file_extension": ".py",
   "mimetype": "text/x-python",
   "name": "python",
   "nbconvert_exporter": "python",
   "pygments_lexer": "ipython3",
   "version": "3.8.5"
  }
 },
 "nbformat": 4,
 "nbformat_minor": 4
}
